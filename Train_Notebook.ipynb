{
 "cells": [
  {
   "cell_type": "code",
   "execution_count": 1,
   "metadata": {},
   "outputs": [],
   "source": [
    "import pandas as pd\n",
    "import numpy as np\n",
    "import os\n",
    "import cv2\n",
    "from sklearn.model_selection import train_test_split\n",
    "import matplotlib.pyplot as plt\n",
    "from tensorflow.keras.utils import to_categorical\n",
    "import tensorflow as tf\n",
    "from tensorflow.keras.layers import Input, Dense, Conv2D, MaxPooling2D, UpSampling2D, Flatten\n",
    "from tensorflow.keras.models import Model\n",
    "from sklearn.metrics import classification_report"
   ]
  },
  {
   "cell_type": "code",
   "execution_count": 2,
   "metadata": {},
   "outputs": [],
   "source": [
    "path = './Bmp/'"
   ]
  },
  {
   "cell_type": "code",
   "execution_count": 3,
   "metadata": {},
   "outputs": [],
   "source": [
    "train_data = []\n",
    "for i, folder in enumerate(os.listdir('./Bmp/')):\n",
    "    for image_name in os.listdir(os.path.join(path , folder)):\n",
    "        train_data.append([path + folder+ \"/\" +image_name, i])"
   ]
  },
  {
   "cell_type": "code",
   "execution_count": 4,
   "metadata": {},
   "outputs": [],
   "source": [
    "train_data_df = pd.DataFrame(train_data, columns = ['Image ID', 'Label'])"
   ]
  },
  {
   "cell_type": "code",
   "execution_count": 5,
   "metadata": {},
   "outputs": [],
   "source": [
    "X = []\n",
    "y = []\n",
    "dsize = (28, 28)\n",
    "for i in range(train_data_df.shape[0]):\n",
    "    img = cv2.imread(train_data_df['Image ID'][i],  0)\n",
    "    img = cv2.resize(img, dsize)\n",
    "    X.append(img)\n",
    "    y.append(train_data_df[\"Label\"][i])"
   ]
  },
  {
   "cell_type": "code",
   "execution_count": 6,
   "metadata": {},
   "outputs": [],
   "source": [
    "y = to_categorical(y)"
   ]
  },
  {
   "cell_type": "code",
   "execution_count": 7,
   "metadata": {},
   "outputs": [],
   "source": [
    "X_train,X_test,y_train,y_test = train_test_split(np.array(X),np.array(y),test_size=0.33,random_state=17)"
   ]
  },
  {
   "cell_type": "code",
   "execution_count": 8,
   "metadata": {},
   "outputs": [],
   "source": [
    "X_train = X_train.reshape((X_train.shape[0], 28, 28, 1))\n",
    "X_test = X_test.reshape((X_test.shape[0], 28, 28, 1))\n",
    "X_train = X_train.astype('float32')\n",
    "X_test = X_test.astype('float32')\n",
    "X_train = X_train / 255.0\n",
    "X_test = X_test / 255.0"
   ]
  },
  {
   "cell_type": "code",
   "execution_count": 9,
   "metadata": {},
   "outputs": [],
   "source": [
    "input_img = Input(shape=(28, 28, 1))\n",
    "x = Conv2D(32, (3, 3), activation='relu', padding='same', kernel_initializer='he_uniform')(input_img)\n",
    "x = MaxPooling2D((2, 2), padding='same')(x)\n",
    "x = Conv2D(32, (3, 3), activation='relu', padding='same')(x)\n",
    "flat = Flatten()(x)\n",
    "den = Dense(512, activation='relu')(flat)\n",
    "out = Dense(36, activation='softmax')(den)"
   ]
  },
  {
   "cell_type": "code",
   "execution_count": 10,
   "metadata": {},
   "outputs": [],
   "source": [
    "classification_model = Model(input_img, out)"
   ]
  },
  {
   "cell_type": "code",
   "execution_count": 11,
   "metadata": {},
   "outputs": [
    {
     "name": "stdout",
     "output_type": "stream",
     "text": [
      "Model: \"model\"\n",
      "_________________________________________________________________\n",
      "Layer (type)                 Output Shape              Param #   \n",
      "=================================================================\n",
      "input_1 (InputLayer)         [(None, 28, 28, 1)]       0         \n",
      "_________________________________________________________________\n",
      "conv2d (Conv2D)              (None, 28, 28, 32)        320       \n",
      "_________________________________________________________________\n",
      "max_pooling2d (MaxPooling2D) (None, 14, 14, 32)        0         \n",
      "_________________________________________________________________\n",
      "conv2d_1 (Conv2D)            (None, 14, 14, 32)        9248      \n",
      "_________________________________________________________________\n",
      "flatten (Flatten)            (None, 6272)              0         \n",
      "_________________________________________________________________\n",
      "dense (Dense)                (None, 512)               3211776   \n",
      "_________________________________________________________________\n",
      "dense_1 (Dense)              (None, 36)                18468     \n",
      "=================================================================\n",
      "Total params: 3,239,812\n",
      "Trainable params: 3,239,812\n",
      "Non-trainable params: 0\n",
      "_________________________________________________________________\n"
     ]
    }
   ],
   "source": [
    "classification_model.compile(loss=tf.keras.losses.categorical_crossentropy, optimizer=tf.keras.optimizers.Adam(),metrics=['accuracy'])\n",
    "classification_model.summary()"
   ]
  },
  {
   "cell_type": "code",
   "execution_count": 12,
   "metadata": {},
   "outputs": [],
   "source": [
    "X_train,X_val,y_train,y_val = train_test_split(X_train,y_train,test_size=0.33,random_state=42)"
   ]
  },
  {
   "cell_type": "code",
   "execution_count": 13,
   "metadata": {},
   "outputs": [
    {
     "name": "stdout",
     "output_type": "stream",
     "text": [
      "Train on 2600 samples, validate on 1282 samples\n",
      "Epoch 1/20\n",
      "2600/2600 [==============================] - 10s 4ms/sample - loss: 3.3569 - accuracy: 0.1485 - val_loss: 2.8257 - val_accuracy: 0.3081\n",
      "Epoch 2/20\n",
      "2600/2600 [==============================] - 2s 697us/sample - loss: 1.9822 - accuracy: 0.5235 - val_loss: 1.5961 - val_accuracy: 0.5827\n",
      "Epoch 3/20\n",
      "2600/2600 [==============================] - 2s 580us/sample - loss: 0.9712 - accuracy: 0.7531 - val_loss: 1.0944 - val_accuracy: 0.7090\n",
      "Epoch 4/20\n",
      "2600/2600 [==============================] - 2s 753us/sample - loss: 0.5712 - accuracy: 0.8527 - val_loss: 1.0357 - val_accuracy: 0.7215\n",
      "Epoch 5/20\n",
      "2600/2600 [==============================] - 1s 566us/sample - loss: 0.3844 - accuracy: 0.9031 - val_loss: 0.9053 - val_accuracy: 0.7621\n",
      "Epoch 6/20\n",
      "2600/2600 [==============================] - 1s 502us/sample - loss: 0.2498 - accuracy: 0.9350 - val_loss: 0.9443 - val_accuracy: 0.7644\n",
      "Epoch 7/20\n",
      "2600/2600 [==============================] - 3s 973us/sample - loss: 0.1575 - accuracy: 0.9635 - val_loss: 0.9964 - val_accuracy: 0.7683\n",
      "Epoch 8/20\n",
      "2600/2600 [==============================] - 3s 1ms/sample - loss: 0.1215 - accuracy: 0.9712 - val_loss: 0.9714 - val_accuracy: 0.7816\n",
      "Epoch 9/20\n",
      "2600/2600 [==============================] - 2s 958us/sample - loss: 0.1040 - accuracy: 0.9758 - val_loss: 0.9970 - val_accuracy: 0.7816\n",
      "Epoch 10/20\n",
      "2600/2600 [==============================] - 1s 487us/sample - loss: 0.0629 - accuracy: 0.9862 - val_loss: 1.0060 - val_accuracy: 0.7832\n",
      "Epoch 11/20\n",
      "2600/2600 [==============================] - 1s 449us/sample - loss: 0.0504 - accuracy: 0.9885 - val_loss: 1.0242 - val_accuracy: 0.7839\n",
      "Epoch 12/20\n",
      "2600/2600 [==============================] - 1s 476us/sample - loss: 0.0300 - accuracy: 0.9935 - val_loss: 1.0673 - val_accuracy: 0.7902\n",
      "Epoch 13/20\n",
      "2600/2600 [==============================] - 1s 539us/sample - loss: 0.0228 - accuracy: 0.9958 - val_loss: 1.0852 - val_accuracy: 0.7824\n",
      "Epoch 14/20\n",
      "2600/2600 [==============================] - 2s 694us/sample - loss: 0.0226 - accuracy: 0.9946 - val_loss: 1.1185 - val_accuracy: 0.7777\n",
      "Epoch 15/20\n",
      "2600/2600 [==============================] - 1s 542us/sample - loss: 0.0151 - accuracy: 0.9981 - val_loss: 1.1615 - val_accuracy: 0.7863\n",
      "Epoch 16/20\n",
      "2600/2600 [==============================] - 1s 542us/sample - loss: 0.0164 - accuracy: 0.9958 - val_loss: 1.2384 - val_accuracy: 0.7730\n",
      "Epoch 17/20\n",
      "2600/2600 [==============================] - 2s 664us/sample - loss: 0.0479 - accuracy: 0.9854 - val_loss: 1.2831 - val_accuracy: 0.7668\n",
      "Epoch 18/20\n",
      "2600/2600 [==============================] - 2s 886us/sample - loss: 0.1266 - accuracy: 0.9688 - val_loss: 1.2066 - val_accuracy: 0.7520\n",
      "Epoch 19/20\n",
      "2600/2600 [==============================] - 2s 640us/sample - loss: 0.0771 - accuracy: 0.9788 - val_loss: 1.3240 - val_accuracy: 0.7683\n",
      "Epoch 20/20\n",
      "2600/2600 [==============================] - 2s 921us/sample - loss: 0.0466 - accuracy: 0.9881 - val_loss: 1.2672 - val_accuracy: 0.7863\n"
     ]
    }
   ],
   "source": [
    "history_2 = classification_model.fit(X_train, y_train, epochs=20,validation_data=(X_val,y_val))"
   ]
  },
  {
   "cell_type": "code",
   "execution_count": 14,
   "metadata": {},
   "outputs": [],
   "source": [
    "y_predicted = classification_model.predict(X_test)"
   ]
  },
  {
   "cell_type": "code",
   "execution_count": 15,
   "metadata": {},
   "outputs": [],
   "source": [
    "predicted_classes = np.argmax(np.round(y_predicted),axis=1)"
   ]
  },
  {
   "cell_type": "code",
   "execution_count": 16,
   "metadata": {},
   "outputs": [],
   "source": [
    "y_test =  np.argmax(np.round(y_test),axis=1)"
   ]
  },
  {
   "cell_type": "code",
   "execution_count": 17,
   "metadata": {},
   "outputs": [
    {
     "name": "stdout",
     "output_type": "stream",
     "text": [
      "              precision    recall  f1-score   support\n",
      "\n",
      "           0       0.10      0.44      0.17        32\n",
      "           1       0.62      0.48      0.54        21\n",
      "           2       0.84      0.84      0.84        25\n",
      "           3       0.75      0.86      0.80        14\n",
      "           4       0.75      0.33      0.46        18\n",
      "           5       0.88      0.64      0.74        22\n",
      "           6       0.50      0.62      0.56        16\n",
      "           7       1.00      0.61      0.76        18\n",
      "           8       1.00      0.18      0.31        11\n",
      "           9       0.88      0.50      0.64        14\n",
      "          10       0.95      0.91      0.93       200\n",
      "          11       0.65      0.39      0.49        38\n",
      "          12       0.82      0.89      0.85        62\n",
      "          13       0.78      0.85      0.81        66\n",
      "          14       0.90      0.87      0.88       161\n",
      "          15       0.74      0.90      0.81        29\n",
      "          16       0.84      0.69      0.76        55\n",
      "          17       0.76      0.88      0.81        57\n",
      "          18       0.80      0.83      0.82        94\n",
      "          19       0.46      0.43      0.44        28\n",
      "          20       0.83      0.85      0.84        40\n",
      "          21       0.90      0.92      0.91        60\n",
      "          22       0.87      0.77      0.82        53\n",
      "          23       0.94      0.94      0.94       117\n",
      "          24       0.78      0.56      0.65       123\n",
      "          25       0.91      0.70      0.79        56\n",
      "          26       0.24      0.24      0.24        17\n",
      "          27       0.80      0.89      0.84       133\n",
      "          28       0.92      0.88      0.90       108\n",
      "          29       0.91      0.94      0.93       112\n",
      "          30       0.65      0.62      0.64        24\n",
      "          31       0.87      0.72      0.79        18\n",
      "          32       0.75      0.53      0.62        17\n",
      "          33       0.77      0.83      0.80        24\n",
      "          34       0.85      0.92      0.88        12\n",
      "          35       0.88      0.39      0.54        18\n",
      "\n",
      "    accuracy                           0.79      1913\n",
      "   macro avg       0.77      0.69      0.71      1913\n",
      "weighted avg       0.83      0.79      0.80      1913\n",
      "\n"
     ]
    }
   ],
   "source": [
    "print(classification_report(y_test,predicted_classes))"
   ]
  },
  {
   "cell_type": "code",
   "execution_count": 18,
   "metadata": {},
   "outputs": [],
   "source": [
    "classification_model.save('my_model.h5') "
   ]
  }
 ],
 "metadata": {
  "kernelspec": {
   "display_name": "Python 3",
   "language": "python",
   "name": "python3"
  },
  "language_info": {
   "codemirror_mode": {
    "name": "ipython",
    "version": 3
   },
   "file_extension": ".py",
   "mimetype": "text/x-python",
   "name": "python",
   "nbconvert_exporter": "python",
   "pygments_lexer": "ipython3",
   "version": "3.7.4"
  }
 },
 "nbformat": 4,
 "nbformat_minor": 2
}
